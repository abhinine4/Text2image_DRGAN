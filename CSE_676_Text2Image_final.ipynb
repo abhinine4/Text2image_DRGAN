{
  "cells": [
    {
      "cell_type": "code",
      "execution_count": null,
      "metadata": {
        "id": "4CKLxVcE71-E"
      },
      "outputs": [],
      "source": [
        "#!cd '/content/drive/MyDrive/Sem 2/CSE 676 - DL/Project/Final'"
      ]
    },
    {
      "cell_type": "code",
      "execution_count": null,
      "metadata": {
        "colab": {
          "base_uri": "https://localhost:8080/"
        },
        "id": "g1dNbxuvfLtA",
        "outputId": "416cdabe-0ec4-4154-ebc4-09a72a04bac9"
      },
      "outputs": [
        {
          "output_type": "stream",
          "name": "stdout",
          "text": [
            "Mounted at /content/drive\n"
          ]
        }
      ],
      "source": [
        "from google.colab import drive\n",
        "drive.mount('/content/drive')"
      ]
    },
    {
      "cell_type": "markdown",
      "metadata": {
        "id": "kTl3E5BsB0Xo"
      },
      "source": [
        "# **Text to Image 🧙🏻‍♂️ ✨**"
      ]
    },
    {
      "cell_type": "code",
      "execution_count": null,
      "metadata": {
        "id": "oa3boQMtT_YO"
      },
      "outputs": [],
      "source": [
        "#Abhishek\n",
        "path='/content/drive/MyDrive/abhi_DL_GAN/Project/'\n",
        "#Saj\n",
        "#path='/content/drive/MyDrive/Sem 2/CSE 676 - DL/Project/'"
      ]
    },
    {
      "cell_type": "code",
      "execution_count": null,
      "metadata": {
        "colab": {
          "base_uri": "https://localhost:8080/"
        },
        "id": "9i7SMZcn8XBq",
        "outputId": "74ea7548-cc97-4224-9a6b-1b302b31083d"
      },
      "outputs": [
        {
          "output_type": "stream",
          "name": "stdout",
          "text": [
            "[nltk_data] Downloading package punkt to /root/nltk_data...\n",
            "[nltk_data]   Unzipping tokenizers/punkt.zip.\n"
          ]
        }
      ],
      "source": [
        "import tensorflow as tf\n",
        "\n",
        "import pickle\n",
        "import gensim\n",
        "\n",
        "import matplotlib.pyplot as pyplot\n",
        "from keras.preprocessing.image import array_to_img\n",
        "from numpy import expand_dims, linspace\n",
        "\n",
        "import numpy as np\n",
        "\n",
        "\n",
        "from numpy import zeros\n",
        "from numpy import ones\n",
        "from numpy import vstack\n",
        "from numpy import asarray\n",
        "\n",
        "import os\n",
        "from keras.callbacks import ModelCheckpoint\n",
        "from keras.initializers import RandomNormal\n",
        "from numpy.random import random\n",
        "from tensorflow.keras import layers\n",
        "from tensorflow.keras import Model\n",
        "from numpy.random import randn\n",
        "from random import randint, choice\n",
        "\n",
        "import time\n",
        "from keras.layers.advanced_activations import PReLU\n",
        "from tensorflow.keras.utils import plot_model\n",
        "from IPython.display import clear_output\n",
        "\n",
        "import matplotlib.pyplot as pyplot\n",
        "import nltk\n",
        "nltk.download('punkt')\n",
        "from nltk.tokenize import word_tokenize"
      ]
    },
    {
      "cell_type": "markdown",
      "metadata": {
        "id": "VvNtFzMviPaL"
      },
      "source": [
        ""
      ]
    },
    {
      "cell_type": "markdown",
      "metadata": {
        "id": "HVVa5TaS9Uam"
      },
      "source": [
        "## **Importing Pickle and Word2Vec model 🗃️**"
      ]
    },
    {
      "cell_type": "code",
      "execution_count": null,
      "metadata": {
        "id": "tvUzENKX8fOm"
      },
      "outputs": [],
      "source": [
        "#for Birds\n",
        "# data = pickle.load(open(path + \"Final/Bird/Pickles/image_vectors.p\", \"rb\"))\n",
        "# word_vector = pickle.load(open(path + \"Final/Bird/Pickles/word_vector_min_bird.p\", \"rb\"))\n",
        "# model = gensim.models.KeyedVectors.load_word2vec_format(path + 'Final/word2vec_pretrained_model/GoogleNews-vectors-negative300.bin', binary=True)"
      ]
    },
    {
      "cell_type": "code",
      "source": [
        "#For flickr8K\n",
        "data = pickle.load(open(path + \"Final/Pickles/image_vectors.p\", \"rb\"))\n",
        "word_vector = pickle.load(open(path + \"Final/Pickles/flickr8k_embeddings.p\", \"rb\"))\n",
        "model = gensim.models.KeyedVectors.load_word2vec_format(path + 'Final/word2vec_pretrained_model/GoogleNews-vectors-negative300.bin', binary=True)"
      ],
      "metadata": {
        "id": "Qa_eymo5Js_Z"
      },
      "execution_count": null,
      "outputs": []
    },
    {
      "cell_type": "markdown",
      "metadata": {
        "id": "tr4EhbbD91TQ"
      },
      "source": [
        "## **Setting lables, Caption for corresponding images | Adding jitter (zoom) 🔊**"
      ]
    },
    {
      "cell_type": "code",
      "execution_count": null,
      "metadata": {
        "colab": {
          "base_uri": "https://localhost:8080/",
          "height": 444
        },
        "id": "-Ax5c8Mz89tJ",
        "outputId": "4c6bebab-140f-41ed-bda2-fa02d21d8c0e"
      },
      "outputs": [
        {
          "output_type": "stream",
          "name": "stdout",
          "text": [
            "8127\n",
            "8127\n",
            "391723162_3bdeb7ea33.jpg\n",
            "391723162_3bdeb7ea33.jpg\n",
            "375171241_0302ad8481.jpg\n",
            "380034515_4fbdfa6b26.jpg\n",
            "3717531382_e1e05e22c5.jpg\n",
            "381976882_0063d16d88.jpg\n",
            "380537190_11d6c0a412.jpg\n",
            "379006645_b9a2886b51.jpg\n",
            "397451339_76a84bd310.jpg\n"
          ]
        },
        {
          "output_type": "display_data",
          "data": {
            "text/plain": [
              "<Figure size 432x288 with 9 Axes>"
            ],
            "image/png": "[encoded data removed]"
          },
          "metadata": {
            "needs_background": "light"
          }
        }
      ],
      "source": [
        "def zoom(image):\n",
        "  image = expand_dims(image, 0) #add additional dimension necessary for zooming\n",
        "  image = image_augmentation_generator.flow(image, batch_size=1)\n",
        "  result = image[0].reshape(image[0].shape[1:]) #remove additional dimension (1, 64, 64, 3) to (64, 64, 3)\n",
        "  return result\n",
        "\n",
        "image_augmentation_generator = tf.keras.preprocessing.image.ImageDataGenerator(zoom_range=[0.8, 1.0]) # random zoom proves to be helpful in capturing more details https://machinelearningmastery.com/how-to-configure-image-data-augmentation-when-training-deep-learning-neural-networks/\n",
        "\n",
        "n = 227\n",
        "image_embeddings = []\n",
        "captions = []\n",
        "labels = []\n",
        "for i, k in enumerate(data.keys()):\n",
        "  if k not in  word_vector:\n",
        "    continue\n",
        "  image_embeddings.append(data[k])\n",
        "  captions.append(word_vector[k])\n",
        "  labels.append(k)\n",
        "  if i % n == 0:\n",
        "   image_embeddings.append(zoom(data[k]))\n",
        "   captions.append(word_vector[k])\n",
        "   labels.append(k)\n",
        "\n",
        "print(len(captions))\n",
        "print(len(image_embeddings))\n",
        "\n",
        "pyplot.axis('off')\n",
        "slcie = image_embeddings[3:33]\n",
        "for i in range(9):\n",
        "  pyplot.subplot(3, 3, i+1)\n",
        "  pyplot.imshow(array_to_img(slcie[i]))\n",
        "  print(labels[i])\n",
        "  pyplot.axis('off')\n",
        "\n",
        "pyplot.show()"
      ]
    },
    {
      "cell_type": "markdown",
      "metadata": {
        "id": "iROpkYfBcU3J"
      },
      "source": [
        "RUN THE BELOW CODES FOR FLICKR ONLY"
      ]
    },
    {
      "cell_type": "code",
      "execution_count": null,
      "metadata": {
        "id": "Qk56pbMY-lYY"
      },
      "outputs": [],
      "source": [
        "#for flickr8k only\n",
        "# Replacing NaN and appending 1 to match dimension=\n",
        "a=np.argwhere(np.isnan(captions))\n",
        "for i in a:\n",
        "  captions[i[0]][i[1]]=0\n",
        "\n",
        "image_embeddings.append(image_embeddings[8126])\n",
        "captions.append(captions[8126])\n",
        "labels.append(labels[8126])"
      ]
    },
    {
      "cell_type": "code",
      "execution_count": null,
      "metadata": {
        "colab": {
          "base_uri": "https://localhost:8080/"
        },
        "id": "6MCsC5OQuYwN",
        "outputId": "37caf1ee-41bb-4e78-d307-272d32c9ebb9"
      },
      "outputs": [
        {
          "output_type": "stream",
          "name": "stdout",
          "text": [
            "8128 8128 8128\n"
          ]
        }
      ],
      "source": [
        "print(len(image_embeddings),\n",
        "len(captions),\n",
        "len(labels))"
      ]
    },
    {
      "cell_type": "markdown",
      "metadata": {
        "id": "HjmmqGA3AkzG"
      },
      "source": [
        "## **Vectorizing**"
      ]
    },
    {
      "cell_type": "code",
      "execution_count": null,
      "metadata": {
        "id": "exX8nQFgAAhr"
      },
      "outputs": [],
      "source": [
        "def get_random_word_vectors_from_dataset(n_samples):\n",
        "  ix = np.random.randint(0, len(captions), n_samples)\n",
        "  return np.asarray(captions)[ix]"
      ]
    },
    {
      "cell_type": "code",
      "execution_count": null,
      "metadata": {
        "id": "h4OlXt8iAVqX"
      },
      "outputs": [],
      "source": [
        "def generate_random_vectors(n_samples):  \n",
        "  vectorized_random_captions = []\n",
        "\n",
        "  for n in range(n_samples):\n",
        "    rnd = randint(8, 25)\n",
        "    result_array = np.empty((0, 300))\n",
        "    for i in range(rnd):\n",
        "      result_array = np.append(result_array, [model[choice(model.index2entity)]], axis=0)\n",
        "    vectorized_random_captions.append(np.mean(result_array, axis=0).astype('float32'))\n",
        "\n",
        "  return np.array(vectorized_random_captions)"
      ]
    },
    {
      "cell_type": "markdown",
      "metadata": {
        "id": "hVoxf3d-BON1"
      },
      "source": [
        "## **Discriminator Model ⚙️**\n"
      ]
    },
    {
      "cell_type": "code",
      "execution_count": null,
      "metadata": {
        "id": "4JqucuWPBL0h"
      },
      "outputs": [],
      "source": [
        "# Discriminator model\n",
        "def define_discriminator():\n",
        "    kernel_init = tf.random_normal_initializer(stddev=0.02)\n",
        "    #batch_init = tf.random_normal_initializer(1., 0.02)\n",
        "    word_vector_dim = 300\n",
        "    dropout_prob = 0.25\n",
        "\n",
        "    in_label = layers.Input(shape=(300,))\n",
        "  \n",
        "    n_nodes = 3 * 64 * 64\n",
        "    li = layers.Dense(n_nodes)(in_label)\n",
        "    li = layers.Reshape((64, 64, 3))(li)\n",
        "    dis_input = layers.Input(shape=(64, 64, 3))\n",
        "\n",
        "    merge = layers.Concatenate()([dis_input, li])\n",
        "    #check output\n",
        "    discriminator = layers.Conv2D(filters=64, kernel_size=(3, 3), padding=\"same\")(merge)\n",
        "    discriminator = layers.LeakyReLU(0.2)(discriminator)\n",
        "    discriminator = layers.GaussianNoise(0.2)(discriminator)\n",
        "    \n",
        "    #regularization layer to avoid overfitting\n",
        "    discriminator = layers.Conv2D(filters=96, kernel_size=(3, 3), strides=(2, 2), padding=\"same\",kernel_initializer=kernel_init)(discriminator)\n",
        "    discriminator = layers.BatchNormalization(momentum=0.8)(discriminator)\n",
        "    discriminator = layers.LeakyReLU()(discriminator)\n",
        "\n",
        "    discriminator = layers.Conv2D(filters=192, kernel_size=(3, 3), padding=\"same\",kernel_initializer=kernel_init)(discriminator)\n",
        "    discriminator = layers.BatchNormalization(momentum=0.8)(discriminator)\n",
        "    discriminator = layers.LeakyReLU(0.2)(discriminator)\n",
        "\n",
        "    discriminator = layers.Conv2D(filters=384, kernel_size=(3, 3), strides=(2, 2), padding=\"same\",kernel_initializer=kernel_init)(discriminator)\n",
        "    discriminator = layers.BatchNormalization(momentum=0.8)(discriminator)\n",
        "    discriminator = layers.LeakyReLU(0.2)(discriminator)\n",
        "\n",
        "    discriminator = layers.Conv2D(filters=192, kernel_size=(3, 3), padding=\"same\",kernel_initializer=kernel_init)(discriminator)\n",
        "    discriminator = layers.BatchNormalization(momentum=0.8)(discriminator)\n",
        "    discriminator = layers.LeakyReLU(0.2)(discriminator)\n",
        "\n",
        "    discriminator = layers.Conv2D(filters=384, kernel_size=(3, 3), strides=(2, 2), padding=\"same\",kernel_initializer=kernel_init)(discriminator)\n",
        "    discriminator = layers.BatchNormalization(momentum=0.8)(discriminator)\n",
        "    discriminator = layers.LeakyReLU(0.2)(discriminator)\n",
        "\n",
        "    discriminator = layers.Conv2D(filters=768, kernel_size=(3, 3), padding=\"same\",kernel_initializer=kernel_init)(discriminator)\n",
        "    discriminator = layers.BatchNormalization(momentum=0.8)(discriminator)\n",
        "    discriminator = layers.LeakyReLU(0.2)(discriminator)\n",
        "\n",
        "    discriminator = layers.Flatten()(discriminator)\n",
        "\n",
        "    discriminator = layers.Dense(1024)(discriminator)\n",
        "\n",
        "    discriminator = layers.LeakyReLU(0.2)(discriminator)\n",
        "\n",
        "    discriminator = layers.Dense(1)(discriminator)\n",
        "\n",
        "    discriminator_model = Model(inputs=[dis_input, in_label], outputs=discriminator)\n",
        "\n",
        "    discriminator_model.summary()\n",
        "\n",
        "    return discriminator_model"
      ]
    },
    {
      "cell_type": "markdown",
      "metadata": {
        "id": "p3GtIZSIBgn3"
      },
      "source": [
        "## **Generator Model 🚀**"
      ]
    },
    {
      "cell_type": "code",
      "execution_count": null,
      "metadata": {
        "id": "qY8Nwu7kBU-4"
      },
      "outputs": [],
      "source": [
        "# Using ResNet to improve image feature laerning\n",
        "def resnet_block(model, kernel_size, filters, strides):\n",
        "    gen = model #identity\n",
        "    model = layers.Conv2D(filters=filters, kernel_size=kernel_size, strides=strides, padding=\"same\")(model)\n",
        "    model = layers.BatchNormalization(momentum=0.8)(model)\n",
        "    model = tf.keras.layers.PReLU(alpha_initializer='zeros', alpha_regularizer=None, alpha_constraint=None, shared_axes=[1, 2])(model)\n",
        "    model = layers.Conv2D(filters=filters, kernel_size=kernel_size, strides=strides, padding=\"same\")(model)\n",
        "    model = layers.BatchNormalization(momentum=0.8)(model)\n",
        "    model = layers.Add()([gen, model])\n",
        "    return model"
      ]
    },
    {
      "cell_type": "code",
      "execution_count": null,
      "metadata": {
        "id": "6qFJKPpdBB7U"
      },
      "outputs": [],
      "source": [
        "# Generator model\n",
        "def define_generator():\n",
        "    kernel_init = tf.random_normal_initializer(stddev=0.02)\n",
        "    #batch_init = tf.random_normal_initializer(1., 0.02)\n",
        "\n",
        "    random_input = layers.Input(shape=(100,))\n",
        "    text_input1 = layers.Input(shape=(300,))\n",
        "    text_layer1 = layers.Dense(8192)(text_input1)\n",
        "    text_layer1 = layers.Reshape((8, 8, 128))(text_layer1)\n",
        "\n",
        "    n_nodes = 128 * 8 * 8\n",
        "    gen_input_dense = layers.Dense(n_nodes)(random_input)\n",
        "    generator = layers.Reshape((8, 8, 128))(gen_input_dense)\n",
        "\n",
        "    merge = layers.Concatenate()([generator, text_layer1])\n",
        "\n",
        "    model = layers.Conv2D(filters=64, kernel_size=9, strides=1, padding=\"same\")(merge)\n",
        "    model = tf.keras.layers.PReLU(alpha_initializer='zeros', alpha_regularizer=None, alpha_constraint=None, shared_axes=[1, 2])(model)\n",
        "\n",
        "    gen_model = model\n",
        "\n",
        "    for _ in range(4):\n",
        "      model = resnet_block(model, 3, 64, 1)\n",
        "\n",
        "    model = layers.Conv2D(filters=64, kernel_size=3, strides=1, padding=\"same\")(model)\n",
        "    model = layers.BatchNormalization(momentum=0.8)(model)\n",
        "    model = layers.Add()([gen_model, model])\n",
        "    #check summary here\n",
        "    \n",
        "    # model = layers.Conv2DTranspose(filters=256, kernel_size=(3, 3), strides=(2, 2), padding=\"same\", kernel_initializer=kernel_init)(model)\n",
        "    # model = layers.LeakyReLU(0.2)(model)\n",
        "    model = layers.Conv2DTranspose(filters=768, kernel_size=(3, 3), strides=(2, 2), padding=\"same\", kernel_initializer=kernel_init)(model)\n",
        "    model = layers.LeakyReLU(0.2)(model)\n",
        "\n",
        "    model = layers.Conv2DTranspose(filters=384, kernel_size=(3, 3), strides=(2, 2), padding=\"same\", kernel_initializer=kernel_init)(model)\n",
        "    model = layers.LeakyReLU(0.2)(model)\n",
        "\n",
        "    model = layers.Conv2DTranspose(filters=192, kernel_size=(3, 3), strides=(2, 2), padding=\"same\", kernel_initializer=kernel_init)(model)\n",
        "    model = layers.LeakyReLU(0.2)(model)\n",
        "\n",
        "    model = layers.Conv2DTranspose(filters=64, kernel_size=(3, 3), strides=(1, 1), padding=\"same\", kernel_initializer=kernel_init)(model)\n",
        "    model = layers.LeakyReLU(0.2)(model)\n",
        "\n",
        "    model = layers.Conv2D(3, (3, 3), padding='same', activation='tanh')(model)\n",
        "\n",
        "    generator_model = Model(inputs=[random_input, text_input1], outputs=model)\n",
        "\n",
        "    generator_model.summary()\n",
        "\n",
        "    return generator_model"
      ]
    },
    {
      "cell_type": "markdown",
      "metadata": {
        "id": "epOATN86Gw0O"
      },
      "source": [
        "\n",
        "Generating Latent Noise"
      ]
    },
    {
      "cell_type": "code",
      "execution_count": null,
      "metadata": {
        "id": "Ivs-3umuFeqp"
      },
      "outputs": [],
      "source": [
        "def generate_latent_points(latent_dim, n_samples):\n",
        "    x_input  = tf.random.normal([n_samples, latent_dim])\n",
        "    text_captions = get_random_word_vectors_from_dataset(n_samples)\n",
        "    return [x_input, text_captions]"
      ]
    },
    {
      "cell_type": "code",
      "execution_count": null,
      "metadata": {
        "id": "qAbvL7YAGKCm"
      },
      "outputs": [],
      "source": [
        "def noisy_labels(y, p_flip):\n",
        "    n_select = int(p_flip * int(y.shape[0]))\n",
        "    flip_ix = np.random.choice([i for i in range(int(y.shape[0]))], size=n_select)\n",
        "\n",
        "    op_list = []\n",
        "    for i in range(int(y.shape[0])):\n",
        "        if i in flip_ix:\n",
        "            op_list.append(tf.subtract(1.0, y[i]))\n",
        "        else:\n",
        "            op_list.append(y[i])\n",
        "\n",
        "    outputs = tf.stack(op_list)\n",
        "    return outputs"
      ]
    },
    {
      "cell_type": "code",
      "execution_count": null,
      "metadata": {
        "id": "vuUAY1GwGNIo"
      },
      "outputs": [],
      "source": [
        "def load_data():\n",
        "    return asarray(image_embeddings), asarray(captions).astype('float32')\n",
        "\n",
        "#label smoothing\n",
        "def smooth_positive_labels(y):\n",
        "\treturn y - 0.3 + (np.random.random(y.shape) * 0.5)\n",
        " \n",
        "def smooth_negative_labels(y):\n",
        "\treturn y + np.random.random(y.shape) * 0.3"
      ]
    },
    {
      "cell_type": "markdown",
      "metadata": {
        "id": "RdG04PhSHBin"
      },
      "source": [
        "## **Generating and Saving images 🎉**"
      ]
    },
    {
      "cell_type": "code",
      "execution_count": null,
      "metadata": {
        "id": "hWeeVmrDGUo9"
      },
      "outputs": [],
      "source": [
        "def generate_and_save_images(model, epoch, test_input):\n",
        "  predictions = model(test_input, training=False)\n",
        "\n",
        "  print(predictions.shape)\n",
        "  pyplot.figure(figsize=[7, 7])\n",
        "\n",
        "  for i in range(predictions.shape[0]):\n",
        "      pyplot.subplot(5, 5, i+1)\n",
        "      pyplot.imshow(array_to_img(predictions.numpy()[i]))\n",
        "      pyplot.axis('off')\n",
        "\n",
        "  #Birds\n",
        "  #pyplot.savefig('/content/drive/MyDrive/abhi_DL_GAN/Project/Final/Bird/bird_gen_images/bird_image_at_epoch_{:04d}.png'.format(epoch))\n",
        "  \n",
        "  #Flick8k\n",
        "  pyplot.savefig('/content/drive/MyDrive/abhi_DL_GAN/Project/Final/flickr_gen_images/Flickr8k_images_at_epoch_{:04d}.png'.format(epoch))\n",
        "  pyplot.show()"
      ]
    },
    {
      "cell_type": "markdown",
      "metadata": {
        "id": "CJvOGdEJHOZL"
      },
      "source": [
        "## **Discriminator Loss 📈**"
      ]
    },
    {
      "cell_type": "code",
      "execution_count": null,
      "metadata": {
        "id": "QfoMMM9tGpwZ"
      },
      "outputs": [],
      "source": [
        "def discriminator_loss(r_real_output_real_text, f_fake_output_real_text_1, f_real_output_fake_text):\n",
        "   alpha = 0.5\n",
        "   real_output_noise = smooth_positive_labels(noisy_labels(tf.ones_like(r_real_output_real_text), 0.10))\n",
        "   fake_output_real_text_noise_1 = smooth_negative_labels(tf.zeros_like(f_fake_output_real_text_1))\n",
        "   real_output_fake_text_noise = smooth_negative_labels(tf.zeros_like(f_real_output_fake_text))\n",
        "\n",
        "   real_loss = tf.reduce_mean(binary_cross_entropy(real_output_noise, r_real_output_real_text))\n",
        "   fake_loss_ms_1 = tf.reduce_mean(binary_cross_entropy(fake_output_real_text_noise_1, f_fake_output_real_text_1))\n",
        "   fake_loss_2 = tf.reduce_mean(binary_cross_entropy(real_output_fake_text_noise, f_real_output_fake_text))\n",
        "\n",
        "   total_loss = real_loss + alpha * fake_loss_2 + (1-alpha) * fake_loss_ms_1 \n",
        "   return total_loss"
      ]
    },
    {
      "cell_type": "markdown",
      "metadata": {
        "id": "6OoduDviHeH8"
      },
      "source": [
        "## **Generator Loss📉**"
      ]
    },
    {
      "cell_type": "code",
      "execution_count": null,
      "metadata": {
        "id": "CIZTre_rHZTT"
      },
      "outputs": [],
      "source": [
        "def generator_loss(f_fake_output_real_text):\n",
        "   return tf.reduce_mean(binary_cross_entropy(tf.ones_like(f_fake_output_real_text), f_fake_output_real_text))"
      ]
    },
    {
      "cell_type": "markdown",
      "metadata": {
        "id": "ne0pUbf2Dr21"
      },
      "source": [
        "## Plot Loss"
      ]
    },
    {
      "cell_type": "code",
      "execution_count": null,
      "metadata": {
        "id": "PDUJRLo4Dvtr"
      },
      "outputs": [],
      "source": [
        "def plot_history(d1_hist, g_hist):\n",
        "\tpyplot.subplot(2, 1, 1)\n",
        "\tpyplot.plot(d1_hist, label='disc')\n",
        "\tpyplot.plot(g_hist, label='gen')\n",
        "\tpyplot.legend()\n",
        "\tpyplot.show()\n",
        "\tpyplot.savefig('/content/drive/MyDrive/abhi_DL_GAN/Project/Final/flickr_gen_images') #flickr\n",
        "\t#pyplot.savefig('/content/drive/MyDrive/abhi_DL_GAN/Project/Final/Bird/bird_gen_images') #birds\n"
      ]
    },
    {
      "cell_type": "markdown",
      "metadata": {
        "id": "myc4AtqJIQj-"
      },
      "source": [
        "## **Training train 👷🏼**"
      ]
    },
    {
      "cell_type": "code",
      "execution_count": 25,
      "metadata": {
        "colab": {
          "base_uri": "https://localhost:8080/",
          "height": 221
        },
        "id": "ujwnLtjlHi0L",
        "outputId": "1e78d5de-2d78-4057-cec2-902f8cc06c49"
      },
      "outputs": [
        {
          "output_type": "stream",
          "name": "stdout",
          "text": [
            "WARNING:tensorflow:Compiled the loaded model, but the compiled metrics have yet to be built. `model.compile_metrics` will be empty until you train or evaluate the model.\n",
            "Time for epoch 540 is 27.34685182571411 sec\n"
          ]
        },
        {
          "output_type": "display_data",
          "data": {
            "text/plain": [
              "<Figure size 432x288 with 1 Axes>"
            ],
            "image/png": "[encoded data removed]"
          },
          "metadata": {
            "needs_background": "light"
          }
        },
        {
          "output_type": "display_data",
          "data": {
            "text/plain": [
              "<Figure size 432x288 with 0 Axes>"
            ]
          },
          "metadata": {}
        }
      ],
      "source": [
        "@tf.function\n",
        "def train_step(images, epoch):\n",
        "\n",
        "  #define half_batch\n",
        "  latent_dim = 100\n",
        "  n_batch = 64\n",
        "\n",
        "  noise_1 = tf.random.normal([32, latent_dim])\n",
        "  noise_2 = tf.random.normal([32, latent_dim])\n",
        "  real_captions = images[1]\n",
        "  print(real_captions)\n",
        "  real_images = images[0]\n",
        "  print(real_images)\n",
        "\n",
        "  random_captions = generate_random_vectors(n_batch)\n",
        "  random_captions_1, random_captions_2  = tf.split(random_captions, 2, 0)\n",
        "  real_captions_1, real_captions_2  = tf.split(real_captions, 2 ,0)\n",
        "  real_images_1, real_images_2 = tf.split(real_images, 2, 0)\n",
        "  temp_d,temp_g=[],[]\n",
        "  with tf.GradientTape() as gen_tape, tf.GradientTape() as disc_tape:\n",
        "    \n",
        "    noise = tf.concat([noise_1, noise_2], 0)\n",
        "\n",
        "    generated_images = generator([noise, real_captions], training=True)\n",
        "\n",
        "    fake_1, fake_2 = tf.split(generated_images, 2, 0)\n",
        "\n",
        "    f_fake_output_real_text_1 = discriminator([fake_1, real_captions_1], training=True)\n",
        "    f_fake_output_real_text_2 = discriminator([fake_2, real_captions_2], training=True)\n",
        "\n",
        "    r_real_output_real_text_1 = discriminator([real_images_1, real_captions_1], training=True)\n",
        "    r_real_output_real_text_2 = discriminator([real_images_2, real_captions_2], training=True)\n",
        "\n",
        "    f_real_output_fake_text_1 = discriminator([real_images_1, random_captions_1], training=True)\n",
        "    f_real_output_fake_text_2 = discriminator([real_images_2, random_captions_2], training=True)\n",
        "\n",
        "    #### Calculating losses ####\n",
        "\n",
        "    gen_loss = generator_loss(f_fake_output_real_text_1) + generator_loss(f_fake_output_real_text_2) \n",
        "    # mode seeking loss\n",
        "    \n",
        "    lz = tf.math.reduce_mean(tf.math.abs(fake_2-fake_1)) / tf.math.reduce_mean(tf.math.abs(noise_2-noise_1))\n",
        "\n",
        "    eps = 1 * 1e-5\n",
        "    loss_lz = 1 / (eps+lz) * ms_loss_weight\n",
        "    total_gen_loss = gen_loss + loss_lz\n",
        "\n",
        "    tf.print('G_loss', [total_gen_loss])\n",
        "    temp_g.append(total_gen_loss)\n",
        "    disc_loss_1 = discriminator_loss(r_real_output_real_text_1, f_fake_output_real_text_1, f_real_output_fake_text_1)\n",
        "    disc_loss_2 = discriminator_loss(r_real_output_real_text_2, f_fake_output_real_text_2, f_real_output_fake_text_2)\n",
        "    \n",
        "    total_disc_loss = disc_loss_1 + disc_loss_2\n",
        "    temp_d.append(total_disc_loss)\n",
        "    tf.print('D_loss', [total_disc_loss])\n",
        "\n",
        "    #### Done calculating losses ####\n",
        "\n",
        "  gradients_of_discriminator = disc_tape.gradient(total_disc_loss, discriminator.trainable_variables)  \n",
        "\n",
        "  gradients_of_generator = gen_tape.gradient(total_gen_loss, generator.trainable_variables)    \n",
        "\n",
        "  generator_optimizer.apply_gradients(zip(gradients_of_generator, generator.trainable_variables))\n",
        "\n",
        "  discriminator_optimizer.apply_gradients(zip(gradients_of_discriminator, discriminator.trainable_variables))\n",
        "  return temp_d,temp_g\n",
        "\n",
        "def train(dataset, epochs = 540):\n",
        "\n",
        "  #checkpoint_dir = path + 'Final/Bird/checkpoints' #Birds\n",
        "  checkpoint_dir = path + 'Final/checkpoints'. #Flickr\n",
        "  checkpoint_prefix = os.path.join(checkpoint_dir, \"ckpt\")\n",
        "  checkpoint = tf.train.Checkpoint(generator_optimizer=generator_optimizer,\n",
        "                                discriminator_optimizer=discriminator_optimizer,\n",
        "                                  generator=generator,\n",
        "                                  discriminator=discriminator)\n",
        "  \n",
        "  ckpt_manager = tf.train.CheckpointManager(checkpoint, checkpoint_dir, max_to_keep=3)\n",
        "  if ckpt_manager.latest_checkpoint:\n",
        "    checkpoint.restore(ckpt_manager.latest_checkpoint)  #ckpt_manager.checkpoints[3]\n",
        "    print ('Latest checkpoint restored!!')\n",
        "  d1_hist, g_hist= list(), list()\n",
        "  \n",
        "  for epoch in range(epochs):\n",
        "    start = time.time()\n",
        "\n",
        "    for image_batch in dataset:\n",
        "      total_disc_loss,total_gen_loss=train_step(image_batch, epoch) \n",
        "    d1_hist.extend(total_disc_loss)\n",
        "    g_hist.extend(total_gen_loss)\n",
        "  \n",
        "    if (epoch +1) % 10 == 0:\n",
        "      [z_input, labels_input] = generate_latent_points(100, 25)\n",
        "      generate_and_save_images(generator,\n",
        "                            epoch + 1,\n",
        "                             [z_input, labels_input])\n",
        "\n",
        "    if (epoch + 1) % 40 == 0:\n",
        "    #if epoch> 0:\n",
        "      ckpt_save_path = ckpt_manager.save()\n",
        "      print ('Saving checkpoint for epoch {} at {}'.format(epoch+1,ckpt_save_path))\n",
        "\n",
        "    if (epoch +1) % 60 == 0:\n",
        "    #if epoch> 0:\n",
        "      clear_output(wait=True)\n",
        "      #generator.save(path + 'Final/Bird/Weights/bird_model_weights_%03d.h5' % (epoch + 1)) #Birds\n",
        "      generator.save(path + 'Final/Weights/new_flickr8k_model_weights_%03d.h5' % (epoch + 1))     #Flickr\n",
        "\n",
        "    print ('Time for epoch {} is {} sec'.format(epoch + 1, time.time()-start))\n",
        "  return d1_hist, g_hist\n",
        "\n",
        "ms_loss_weight = 1.0\n",
        "\n",
        "binary_cross_entropy = tf.keras.losses.BinaryCrossentropy(from_logits=True)\n",
        "\n",
        "generator_optimizer = tf.keras.optimizers.Adam(learning_rate=0.00004, beta_1 = 0.5)\n",
        "discriminator_optimizer = tf.keras.optimizers.Adam(learning_rate=0.00004, beta_1 = 0.5)\n",
        "\n",
        "discriminator = define_discriminator()\n",
        "generator = define_generator()\n",
        "\n",
        "images, lbs = load_data()\n",
        "BUFFER_SIZE = images.shape[0]\n",
        "BATCH_SIZE = 64\n",
        "\n",
        "train_dataset = tf.data.Dataset.from_tensor_slices((images,lbs)).shuffle(BUFFER_SIZE).batch(BATCH_SIZE)\n",
        "\n",
        "\n",
        "d1_hist, g_hist=train(train_dataset)\n",
        "plot_history(d1_hist, g_hist)"
      ]
    },
    {
      "cell_type": "markdown",
      "metadata": {
        "id": "Sac7zEJ6OAik"
      },
      "source": [
        "## **Visualization 💯**"
      ]
    },
    {
      "cell_type": "code",
      "execution_count": 26,
      "metadata": {
        "colab": {
          "base_uri": "https://localhost:8080/"
        },
        "id": "E2a43G_5DuVI",
        "outputId": "54171d5a-73f9-43af-b333-8fe461e905ae"
      },
      "outputs": [
        {
          "output_type": "stream",
          "name": "stdout",
          "text": [
            "[nltk_data] Downloading package punkt to /root/nltk_data...\n",
            "[nltk_data]   Package punkt is already up-to-date!\n"
          ]
        }
      ],
      "source": [
        "#\n",
        "from keras.preprocessing.image import array_to_img\n",
        "\n",
        "from numpy import expand_dims\n",
        "from numpy import zeros\n",
        "from numpy import ones\n",
        "from numpy import vstack\n",
        "from numpy import asarray\n",
        "import numpy as np\n",
        "\n",
        "import os\n",
        "from keras.callbacks import ModelCheckpoint\n",
        "from keras.initializers import RandomNormal\n",
        "from numpy.random import random\n",
        "from tensorflow.keras import layers\n",
        "from tensorflow.keras import Model\n",
        "from numpy.random import randn\n",
        "from numpy.random import randint\n",
        "import time\n",
        "import matplotlib.pyplot as pyplot\n",
        "from keras.preprocessing.image import array_to_img\n",
        "from numpy import linspace\n",
        "import nltk\n",
        "nltk.download('punkt')\n",
        "from nltk.tokenize import word_tokenize\n",
        "\n",
        "from numpy.random import randint\n",
        "import numpy as np"
      ]
    },
    {
      "cell_type": "code",
      "execution_count": 27,
      "metadata": {
        "id": "Ojp1ZXRoODBd"
      },
      "outputs": [],
      "source": [
        "def create_sent_vector(sent):\n",
        "  result_array = np.empty((0, 300))\n",
        "\n",
        "  for word in word_tokenize(sent):\n",
        "    result_array = np.append(result_array, [model[word]], axis=0)\n",
        "  final = np.mean(result_array, axis=0).astype('float32')\n",
        "  return final"
      ]
    },
    {
      "cell_type": "code",
      "execution_count": 28,
      "metadata": {
        "id": "XdhNNHT_Oe0Q"
      },
      "outputs": [],
      "source": [
        "# User input to generate image from text\n",
        "def generate_random_word_vectors_from_dataset(n_samples, create_new_captions = True):\n",
        "\n",
        "  if create_new_captions:\n",
        "      e = create_sent_vector('A girl with yellow dress')\n",
        "      f = create_sent_vector('A boy with blue tshirt')\n",
        "      v = []\n",
        "      flag = True\n",
        "      for i in range(n_samples):\n",
        "        \n",
        "        if not flag:\n",
        "          v.append(f)\n",
        "          flag = True\n",
        "        elif flag:\n",
        "          v.append(e)\n",
        "          flag = False\n",
        "      return np.asarray(v), np.asarray([])\n",
        "  else:\n",
        "    ix = randint(0,len(captions), n_samples)\n",
        "    print(ix)\n",
        "    return  np.asarray(captions)[ix], np.asarray(labels)[ix]"
      ]
    },
    {
      "cell_type": "code",
      "execution_count": 29,
      "metadata": {
        "id": "8d3lUH9kOfc0"
      },
      "outputs": [],
      "source": [
        "def generate_images(model, test_input):\n",
        "\n",
        "  predictions = model(test_input, training=False)\n",
        "\n",
        "  print(predictions.shape)\n",
        "  pyplot.figure(figsize=[15, 15])\n",
        "  for i in range(predictions.shape[0]):\n",
        "      pyplot.subplot(1, 9, i+1)\n",
        "      pyplot.imshow(array_to_img(predictions.numpy()[i]))\n",
        "      pyplot.axis('off')\n",
        "\n",
        "  pyplot.show()"
      ]
    },
    {
      "cell_type": "code",
      "execution_count": 30,
      "metadata": {
        "id": "ywb3vO9hOhdB"
      },
      "outputs": [],
      "source": [
        "def interpolate_points(p1, p2, n_steps=9):\n",
        "\tratios = linspace(0, 1, num=n_steps)\n",
        "\tvectors = list()\n",
        "\tfor ratio in ratios:\n",
        "\t\tv = (1.0 - ratio) * p1 + ratio * p2\n",
        "\t\tvectors.append(v)\n",
        "\treturn np.asarray(vectors)"
      ]
    },
    {
      "cell_type": "code",
      "execution_count": 31,
      "metadata": {
        "id": "Iq5_fhUGOjLe"
      },
      "outputs": [],
      "source": [
        "def generate_latent_points(latent_dim, n_samples, interpolate = False):\n",
        "    x_input  = tf.random.normal([n_samples, latent_dim])\n",
        "    text_captions, labels = generate_random_word_vectors_from_dataset(n_samples, create_new_captions=False)\n",
        "    if interpolate:\n",
        "      text_captions = interpolate_points(text_captions[0], text_captions[1])\n",
        "      x_input = interpolate_points(x_input[0], x_input[1])\n",
        "    for index, s in enumerate(labels.flat):\n",
        "      print(index, s)\n",
        "\n",
        "    return [x_input, text_captions]"
      ]
    },
    {
      "cell_type": "code",
      "execution_count": 32,
      "metadata": {
        "colab": {
          "base_uri": "https://localhost:8080/"
        },
        "id": "X9hvWrMwOlFA",
        "outputId": "14e56105-3247-40c5-c4ed-fe6b17575f35"
      },
      "outputs": [
        {
          "output_type": "stream",
          "name": "stdout",
          "text": [
            "WARNING:tensorflow:No training configuration found in the save file, so the model was *not* compiled. Compile it manually.\n"
          ]
        }
      ],
      "source": [
        "#gen_model = tf.keras.models.load_model(path + 'Final/Bird/Weights/bird_model_weights_780.h5') #bird\n",
        "gen_model = tf.keras.models.load_model(path + 'Final/Weights/flickr8K_model_weights_840.h5') #flickr"
      ]
    },
    {
      "cell_type": "code",
      "execution_count": 43,
      "metadata": {
        "colab": {
          "base_uri": "https://localhost:8080/",
          "height": 310
        },
        "id": "kgrUkIqBOnMc",
        "outputId": "b49575a0-7ac5-4a38-b138-0c44aa1e468b"
      },
      "outputs": [
        {
          "output_type": "stream",
          "name": "stdout",
          "text": [
            "[1626]\n",
            "0 3644142276_caed26029e.jpg\n",
            "(1, 64, 64, 3)\n"
          ]
        },
        {
          "output_type": "display_data",
          "data": {
            "text/plain": [
              "<Figure size 1080x1080 with 1 Axes>"
            ],
            "image/png": "[encoded data removed]"
          },
          "metadata": {
            "needs_background": "light"
          }
        },
        {
          "output_type": "stream",
          "name": "stdout",
          "text": [
            "[5934]\n",
            "0 2837808847_5407af1986.jpg\n",
            "(1, 64, 64, 3)\n"
          ]
        },
        {
          "output_type": "display_data",
          "data": {
            "text/plain": [
              "<Figure size 1080x1080 with 1 Axes>"
            ],
            "image/png": "[encoded data removed]"
          },
          "metadata": {
            "needs_background": "light"
          }
        }
      ],
      "source": [
        "for i in range(2):\n",
        "  generate_images(gen_model, generate_latent_points(100, 1))"
      ]
    },
    {
      "cell_type": "code",
      "source": [
        "#FID calculation\n",
        "\n",
        "import numpy\n",
        "from numpy import cov\n",
        "from numpy import trace\n",
        "from numpy import iscomplexobj\n",
        "from numpy import asarray\n",
        "from numpy.random import randint\n",
        "from scipy.linalg import sqrtm\n",
        "from keras.applications.inception_v3 import InceptionV3\n",
        "from keras.applications.inception_v3 import preprocess_input\n",
        "from keras.datasets.mnist import load_data\n",
        "from skimage.transform import resize\n",
        "from PIL import Image\n",
        "from numpy import asarray\n",
        "\n",
        "# scale an array of images to a new size\n",
        "def scale_images(images, new_shape):\n",
        "\timages_list = list()\n",
        "\tfor image in images:\n",
        "\t\t# resize with nearest neighbor interpolation\n",
        "\t\tnew_image = resize(image, new_shape, 0)\n",
        "\t\t# store\n",
        "\t\timages_list.append(new_image)\n",
        "\treturn asarray(images_list)\n",
        " \n",
        "# calculate frechet inception distance\n",
        "def calculate_fid(model, images1, images2):\n",
        "\t# calculate activations\n",
        "\tact1 = model.predict(images1)\n",
        "\tact2 = model.predict(images2)\n",
        "\t# calculate mean and covariance statistics\n",
        "\tmu1, sigma1 = act1.mean(axis=0), cov(act1, rowvar=False)\n",
        "\tmu2, sigma2 = act2.mean(axis=0), cov(act2, rowvar=False)\n",
        "\t# calculate sum squared difference between means\n",
        "\tssdiff = numpy.sum((mu1 - mu2)**2.0)\n",
        "\t# calculate sqrt of product between cov\n",
        "\tcovmean = sqrtm(sigma1.dot(sigma2))\n",
        "\t# check and correct imaginary numbers from sqrt\n",
        "\tif iscomplexobj(covmean):\n",
        "\t\tcovmean = covmean.real\n",
        "\t# calculate score\n",
        "\tfid = ssdiff + trace(sigma1 + sigma2 - 2.0 * covmean)\n",
        "\treturn fid\n",
        " \n",
        "# prepare the inception v3 model\n",
        "model = InceptionV3(include_top=False, pooling='avg', input_shape=(299,299,3))\n",
        "# define two fake collections of images\n",
        "# load the image\n",
        "image = Image.open('path_to_generated_image')\n",
        "# convert image to numpy array\n",
        "images1 = asarray(image)\n",
        "images1=numpy.resize(images1, (10,32,32,3))\n",
        "images1 = images1.reshape((10,32,32,3))\n",
        "image2 = Image.open('path_to_real_image')\n",
        "# convert image to numpy array\n",
        "images2 = asarray(image2)\n",
        "# images2 = randint(0, 255, 10*32*32*3)\n",
        "images2=numpy.resize(images2, (10,32,32,3))\n",
        "images2 = images2.reshape((10,32,32,3))\n",
        "print('Prepared', images1.shape, images2.shape)\n",
        "# convert integer to floating point values\n",
        "images1 = images1.astype('float32')\n",
        "images2 = images2.astype('float32')\n",
        "# resize images\n",
        "images1 = scale_images(images1, (299,299,3))\n",
        "images2 = scale_images(images2, (299,299,3))\n",
        "print('Scaled', images1.shape, images2.shape)\n",
        "# pre-process images\n",
        "images1 = preprocess_input(images1)\n",
        "images2 = preprocess_input(images2)\n",
        "# fid between images1 and images1\n",
        "fid = calculate_fid(model, images1, images1)\n",
        "print('FID (same): %.3f' % fid)\n",
        "# fid between images1 and images2\n",
        "fid = calculate_fid(model, images1, images2)\n",
        "print('FID (different): %.3f' % fid)"
      ],
      "metadata": {
        "id": "z3P8iCNW0Jtk",
        "colab": {
          "base_uri": "https://localhost:8080/",
          "height": 419
        },
        "outputId": "86ab8f7d-c749-4f25-a9e6-a343dc58bcad"
      },
      "execution_count": 39,
      "outputs": [
        {
          "output_type": "stream",
          "name": "stdout",
          "text": [
            "Downloading data from https://storage.googleapis.com/tensorflow/keras-applications/inception_v3/inception_v3_weights_tf_dim_ordering_tf_kernels_notop.h5\n",
            "87916544/87910968 [==============================] - 0s 0us/step\n",
            "87924736/87910968 [==============================] - 0s 0us/step\n"
          ]
        },
        {
          "output_type": "error",
          "ename": "FileNotFoundError",
          "evalue": "ignored",
          "traceback": [
            "\u001b[0;31m---------------------------------------------------------------------------\u001b[0m",
            "\u001b[0;31mFileNotFoundError\u001b[0m                         Traceback (most recent call last)",
            "\u001b[0;32m<ipython-input-39-6970e63f6ec4>\u001b[0m in \u001b[0;36m<module>\u001b[0;34m()\u001b[0m\n\u001b[1;32m     48\u001b[0m \u001b[0;31m# define two fake collections of images\u001b[0m\u001b[0;34m\u001b[0m\u001b[0;34m\u001b[0m\u001b[0;34m\u001b[0m\u001b[0m\n\u001b[1;32m     49\u001b[0m \u001b[0;31m# load the image\u001b[0m\u001b[0;34m\u001b[0m\u001b[0;34m\u001b[0m\u001b[0;34m\u001b[0m\u001b[0m\n\u001b[0;32m---> 50\u001b[0;31m \u001b[0mimage\u001b[0m \u001b[0;34m=\u001b[0m \u001b[0mImage\u001b[0m\u001b[0;34m.\u001b[0m\u001b[0mopen\u001b[0m\u001b[0;34m(\u001b[0m\u001b[0;34m'/content/drive/MyDrive/Project/Final/Bird/for_fid/birdddd.jpg'\u001b[0m\u001b[0;34m)\u001b[0m\u001b[0;34m\u001b[0m\u001b[0;34m\u001b[0m\u001b[0m\n\u001b[0m\u001b[1;32m     51\u001b[0m \u001b[0;31m# convert image to numpy array\u001b[0m\u001b[0;34m\u001b[0m\u001b[0;34m\u001b[0m\u001b[0;34m\u001b[0m\u001b[0m\n\u001b[1;32m     52\u001b[0m \u001b[0mimages1\u001b[0m \u001b[0;34m=\u001b[0m \u001b[0masarray\u001b[0m\u001b[0;34m(\u001b[0m\u001b[0mimage\u001b[0m\u001b[0;34m)\u001b[0m\u001b[0;34m\u001b[0m\u001b[0;34m\u001b[0m\u001b[0m\n",
            "\u001b[0;32m/usr/local/lib/python3.7/dist-packages/PIL/Image.py\u001b[0m in \u001b[0;36mopen\u001b[0;34m(fp, mode)\u001b[0m\n\u001b[1;32m   2841\u001b[0m \u001b[0;34m\u001b[0m\u001b[0m\n\u001b[1;32m   2842\u001b[0m     \u001b[0;32mif\u001b[0m \u001b[0mfilename\u001b[0m\u001b[0;34m:\u001b[0m\u001b[0;34m\u001b[0m\u001b[0;34m\u001b[0m\u001b[0m\n\u001b[0;32m-> 2843\u001b[0;31m         \u001b[0mfp\u001b[0m \u001b[0;34m=\u001b[0m \u001b[0mbuiltins\u001b[0m\u001b[0;34m.\u001b[0m\u001b[0mopen\u001b[0m\u001b[0;34m(\u001b[0m\u001b[0mfilename\u001b[0m\u001b[0;34m,\u001b[0m \u001b[0;34m\"rb\"\u001b[0m\u001b[0;34m)\u001b[0m\u001b[0;34m\u001b[0m\u001b[0;34m\u001b[0m\u001b[0m\n\u001b[0m\u001b[1;32m   2844\u001b[0m         \u001b[0mexclusive_fp\u001b[0m \u001b[0;34m=\u001b[0m \u001b[0;32mTrue\u001b[0m\u001b[0;34m\u001b[0m\u001b[0;34m\u001b[0m\u001b[0m\n\u001b[1;32m   2845\u001b[0m \u001b[0;34m\u001b[0m\u001b[0m\n",
            "\u001b[0;31mFileNotFoundError\u001b[0m: [Errno 2] No such file or directory: '/content/drive/MyDrive/Project/Final/Bird/for_fid/birdddd.jpg'"
          ]
        }
      ]
    },
    {
      "cell_type": "code",
      "source": [
        ""
      ],
      "metadata": {
        "id": "ThBRvyZjFY5Z"
      },
      "execution_count": null,
      "outputs": []
    }
  ],
  "metadata": {
    "accelerator": "GPU",
    "colab": {
      "background_execution": "on",
      "collapsed_sections": [],
      "machine_shape": "hm",
      "name": "CSE_676_Text2Image_final.ipynb",
      "provenance": []
    },
    "kernelspec": {
      "display_name": "Python 3",
      "name": "python3"
    },
    "language_info": {
      "name": "python"
    }
  },
  "nbformat": 4,
  "nbformat_minor": 0
}